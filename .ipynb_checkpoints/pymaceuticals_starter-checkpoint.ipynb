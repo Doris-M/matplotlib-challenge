{
 "cells": [
  {
   "cell_type": "markdown",
   "metadata": {},
   "source": [
    "## Observations and Insights "
   ]
  },
  {
   "cell_type": "markdown",
   "metadata": {},
   "source": []
  },
  {
   "cell_type": "code",
   "execution_count": 1,
   "metadata": {},
   "outputs": [
    {
     "data": {
      "text/html": [
       "<div>\n",
       "<style scoped>\n",
       "    .dataframe tbody tr th:only-of-type {\n",
       "        vertical-align: middle;\n",
       "    }\n",
       "\n",
       "    .dataframe tbody tr th {\n",
       "        vertical-align: top;\n",
       "    }\n",
       "\n",
       "    .dataframe thead th {\n",
       "        text-align: right;\n",
       "    }\n",
       "</style>\n",
       "<table border=\"1\" class=\"dataframe\">\n",
       "  <thead>\n",
       "    <tr style=\"text-align: right;\">\n",
       "      <th></th>\n",
       "      <th>Mouse ID</th>\n",
       "      <th>Drug Regimen</th>\n",
       "      <th>Sex</th>\n",
       "      <th>Age_months</th>\n",
       "      <th>Weight (g)</th>\n",
       "      <th>Timepoint</th>\n",
       "      <th>Tumor Volume (mm3)</th>\n",
       "      <th>Metastatic Sites</th>\n",
       "    </tr>\n",
       "  </thead>\n",
       "  <tbody>\n",
       "    <tr>\n",
       "      <th>338</th>\n",
       "      <td>w150</td>\n",
       "      <td>Capomulin</td>\n",
       "      <td>Male</td>\n",
       "      <td>23</td>\n",
       "      <td>23</td>\n",
       "      <td>0</td>\n",
       "      <td>45.000000</td>\n",
       "      <td>0</td>\n",
       "    </tr>\n",
       "    <tr>\n",
       "      <th>339</th>\n",
       "      <td>w150</td>\n",
       "      <td>Capomulin</td>\n",
       "      <td>Male</td>\n",
       "      <td>23</td>\n",
       "      <td>23</td>\n",
       "      <td>5</td>\n",
       "      <td>39.202129</td>\n",
       "      <td>0</td>\n",
       "    </tr>\n",
       "    <tr>\n",
       "      <th>340</th>\n",
       "      <td>w150</td>\n",
       "      <td>Capomulin</td>\n",
       "      <td>Male</td>\n",
       "      <td>23</td>\n",
       "      <td>23</td>\n",
       "      <td>10</td>\n",
       "      <td>39.952347</td>\n",
       "      <td>0</td>\n",
       "    </tr>\n",
       "  </tbody>\n",
       "</table>\n",
       "</div>"
      ],
      "text/plain": [
       "    Mouse ID Drug Regimen   Sex  Age_months  Weight (g)  Timepoint  \\\n",
       "338     w150    Capomulin  Male          23          23          0   \n",
       "339     w150    Capomulin  Male          23          23          5   \n",
       "340     w150    Capomulin  Male          23          23         10   \n",
       "\n",
       "     Tumor Volume (mm3)  Metastatic Sites  \n",
       "338           45.000000                 0  \n",
       "339           39.202129                 0  \n",
       "340           39.952347                 0  "
      ]
     },
     "execution_count": 1,
     "metadata": {},
     "output_type": "execute_result"
    }
   ],
   "source": [
    "# Dependencies and Setup\n",
    "\n",
    "import matplotlib.pyplot as plt\n",
    "import pandas as pd\n",
    "import scipy.stats as st\n",
    "import numpy as np\n",
    "#from scipy import stats\n",
    "\n",
    "# Study data files\n",
    "mouse_metadata_path = \"data/Mouse_metadata.csv\"\n",
    "study_results_path = \"data/Study_results.csv\"\n",
    "\n",
    "# Read the mouse data and the study results\n",
    "mouse_metadata = pd.read_csv(mouse_metadata_path)\n",
    "study_results = pd.read_csv(study_results_path)\n",
    "\n",
    "# Combine the data into a single dataset\n",
    "mouse_study_combined_df = pd.merge(mouse_metadata,study_results, on='Mouse ID')\n",
    "\n",
    "# Display the data table for preview5\n",
    "mouse_study_combined_df_0 =mouse_study_combined_df.loc[mouse_study_combined_df['Mouse ID'] == 'w150',:]\n",
    "\n",
    "mouse_study_combined_df_0"
   ]
  },
  {
   "cell_type": "code",
   "execution_count": 2,
   "metadata": {},
   "outputs": [
    {
     "name": "stdout",
     "output_type": "stream",
     "text": [
      "Total number of mice counting duplicates id's=  1893\n",
      "Number of uniques mice= 249\n"
     ]
    }
   ],
   "source": [
    "# Checking the number of mice.\n",
    "\n",
    "# number of uniques mice\n",
    "number_of_mice = mouse_study_combined_df['Mouse ID'].unique()\n",
    "number_of_mice = len(number_of_mice )\n",
    "\n",
    "#number of the total mice- duplicates codes are included\n",
    "number_mice_with_duplicates = mouse_study_combined_df['Mouse ID'].count()\n",
    "print(\"Total number of mice counting duplicates id's= \",number_mice_with_duplicates)\n",
    "print(\"Number of uniques mice=\",number_of_mice)"
   ]
  },
  {
   "cell_type": "code",
   "execution_count": 4,
   "metadata": {},
   "outputs": [
    {
     "name": "stdout",
     "output_type": "stream",
     "text": [
      "g989\n"
     ]
    }
   ],
   "source": [
    "# Getting the duplicate mice by ID number that shows up for Mouse ID and Timepoint. \n",
    "\n",
    "mouse_study_dup_df = mouse_study_combined_df[mouse_study_combined_df.duplicated(['Mouse ID','Timepoint'])].groupby('Mouse ID')\n",
    "\n",
    "duplicated_mouse_id = pd.DataFrame({'Duplicate mice':mouse_study_dup_df['Mouse ID'].first()\n",
    "                                 })\n",
    "for i in range(len(duplicated_mouse_id)):\n",
    "    print (duplicated_mouse_id.index[i])\n",
    "\n"
   ]
  },
  {
   "cell_type": "code",
   "execution_count": 5,
   "metadata": {},
   "outputs": [
    {
     "data": {
      "text/html": [
       "<div>\n",
       "<style scoped>\n",
       "    .dataframe tbody tr th:only-of-type {\n",
       "        vertical-align: middle;\n",
       "    }\n",
       "\n",
       "    .dataframe tbody tr th {\n",
       "        vertical-align: top;\n",
       "    }\n",
       "\n",
       "    .dataframe thead th {\n",
       "        text-align: right;\n",
       "    }\n",
       "</style>\n",
       "<table border=\"1\" class=\"dataframe\">\n",
       "  <thead>\n",
       "    <tr style=\"text-align: right;\">\n",
       "      <th></th>\n",
       "      <th>Mouse ID</th>\n",
       "      <th>Drug Regimen</th>\n",
       "      <th>Sex</th>\n",
       "      <th>Age_months</th>\n",
       "      <th>Weight (g)</th>\n",
       "      <th>Timepoint</th>\n",
       "      <th>Tumor Volume (mm3)</th>\n",
       "      <th>Metastatic Sites</th>\n",
       "    </tr>\n",
       "  </thead>\n",
       "  <tbody>\n",
       "    <tr>\n",
       "      <th>908</th>\n",
       "      <td>g989</td>\n",
       "      <td>Propriva</td>\n",
       "      <td>Female</td>\n",
       "      <td>21</td>\n",
       "      <td>26</td>\n",
       "      <td>0</td>\n",
       "      <td>45.000000</td>\n",
       "      <td>0</td>\n",
       "    </tr>\n",
       "    <tr>\n",
       "      <th>909</th>\n",
       "      <td>g989</td>\n",
       "      <td>Propriva</td>\n",
       "      <td>Female</td>\n",
       "      <td>21</td>\n",
       "      <td>26</td>\n",
       "      <td>0</td>\n",
       "      <td>45.000000</td>\n",
       "      <td>0</td>\n",
       "    </tr>\n",
       "    <tr>\n",
       "      <th>910</th>\n",
       "      <td>g989</td>\n",
       "      <td>Propriva</td>\n",
       "      <td>Female</td>\n",
       "      <td>21</td>\n",
       "      <td>26</td>\n",
       "      <td>5</td>\n",
       "      <td>48.786801</td>\n",
       "      <td>0</td>\n",
       "    </tr>\n",
       "    <tr>\n",
       "      <th>911</th>\n",
       "      <td>g989</td>\n",
       "      <td>Propriva</td>\n",
       "      <td>Female</td>\n",
       "      <td>21</td>\n",
       "      <td>26</td>\n",
       "      <td>5</td>\n",
       "      <td>47.570392</td>\n",
       "      <td>0</td>\n",
       "    </tr>\n",
       "    <tr>\n",
       "      <th>912</th>\n",
       "      <td>g989</td>\n",
       "      <td>Propriva</td>\n",
       "      <td>Female</td>\n",
       "      <td>21</td>\n",
       "      <td>26</td>\n",
       "      <td>10</td>\n",
       "      <td>51.745156</td>\n",
       "      <td>0</td>\n",
       "    </tr>\n",
       "    <tr>\n",
       "      <th>913</th>\n",
       "      <td>g989</td>\n",
       "      <td>Propriva</td>\n",
       "      <td>Female</td>\n",
       "      <td>21</td>\n",
       "      <td>26</td>\n",
       "      <td>10</td>\n",
       "      <td>49.880528</td>\n",
       "      <td>0</td>\n",
       "    </tr>\n",
       "    <tr>\n",
       "      <th>914</th>\n",
       "      <td>g989</td>\n",
       "      <td>Propriva</td>\n",
       "      <td>Female</td>\n",
       "      <td>21</td>\n",
       "      <td>26</td>\n",
       "      <td>15</td>\n",
       "      <td>51.325852</td>\n",
       "      <td>1</td>\n",
       "    </tr>\n",
       "    <tr>\n",
       "      <th>915</th>\n",
       "      <td>g989</td>\n",
       "      <td>Propriva</td>\n",
       "      <td>Female</td>\n",
       "      <td>21</td>\n",
       "      <td>26</td>\n",
       "      <td>15</td>\n",
       "      <td>53.442020</td>\n",
       "      <td>0</td>\n",
       "    </tr>\n",
       "    <tr>\n",
       "      <th>916</th>\n",
       "      <td>g989</td>\n",
       "      <td>Propriva</td>\n",
       "      <td>Female</td>\n",
       "      <td>21</td>\n",
       "      <td>26</td>\n",
       "      <td>20</td>\n",
       "      <td>55.326122</td>\n",
       "      <td>1</td>\n",
       "    </tr>\n",
       "    <tr>\n",
       "      <th>917</th>\n",
       "      <td>g989</td>\n",
       "      <td>Propriva</td>\n",
       "      <td>Female</td>\n",
       "      <td>21</td>\n",
       "      <td>26</td>\n",
       "      <td>20</td>\n",
       "      <td>54.657650</td>\n",
       "      <td>1</td>\n",
       "    </tr>\n",
       "    <tr>\n",
       "      <th>918</th>\n",
       "      <td>g989</td>\n",
       "      <td>Propriva</td>\n",
       "      <td>Female</td>\n",
       "      <td>21</td>\n",
       "      <td>26</td>\n",
       "      <td>25</td>\n",
       "      <td>56.045564</td>\n",
       "      <td>1</td>\n",
       "    </tr>\n",
       "    <tr>\n",
       "      <th>919</th>\n",
       "      <td>g989</td>\n",
       "      <td>Propriva</td>\n",
       "      <td>Female</td>\n",
       "      <td>21</td>\n",
       "      <td>26</td>\n",
       "      <td>30</td>\n",
       "      <td>59.082294</td>\n",
       "      <td>1</td>\n",
       "    </tr>\n",
       "    <tr>\n",
       "      <th>920</th>\n",
       "      <td>g989</td>\n",
       "      <td>Propriva</td>\n",
       "      <td>Female</td>\n",
       "      <td>21</td>\n",
       "      <td>26</td>\n",
       "      <td>35</td>\n",
       "      <td>62.570880</td>\n",
       "      <td>2</td>\n",
       "    </tr>\n",
       "  </tbody>\n",
       "</table>\n",
       "</div>"
      ],
      "text/plain": [
       "    Mouse ID Drug Regimen     Sex  Age_months  Weight (g)  Timepoint  \\\n",
       "908     g989     Propriva  Female          21          26          0   \n",
       "909     g989     Propriva  Female          21          26          0   \n",
       "910     g989     Propriva  Female          21          26          5   \n",
       "911     g989     Propriva  Female          21          26          5   \n",
       "912     g989     Propriva  Female          21          26         10   \n",
       "913     g989     Propriva  Female          21          26         10   \n",
       "914     g989     Propriva  Female          21          26         15   \n",
       "915     g989     Propriva  Female          21          26         15   \n",
       "916     g989     Propriva  Female          21          26         20   \n",
       "917     g989     Propriva  Female          21          26         20   \n",
       "918     g989     Propriva  Female          21          26         25   \n",
       "919     g989     Propriva  Female          21          26         30   \n",
       "920     g989     Propriva  Female          21          26         35   \n",
       "\n",
       "     Tumor Volume (mm3)  Metastatic Sites  \n",
       "908           45.000000                 0  \n",
       "909           45.000000                 0  \n",
       "910           48.786801                 0  \n",
       "911           47.570392                 0  \n",
       "912           51.745156                 0  \n",
       "913           49.880528                 0  \n",
       "914           51.325852                 1  \n",
       "915           53.442020                 0  \n",
       "916           55.326122                 1  \n",
       "917           54.657650                 1  \n",
       "918           56.045564                 1  \n",
       "919           59.082294                 1  \n",
       "920           62.570880                 2  "
      ]
     },
     "execution_count": 5,
     "metadata": {},
     "output_type": "execute_result"
    }
   ],
   "source": [
    "# Optional: Get all the data for the duplicate mouse ID. \n",
    "\n",
    "for i in range(len(duplicated_mouse_id)): \n",
    "    if i == 0:\n",
    "        mouse_id_df             = mouse_study_combined_df.loc[mouse_study_combined_df['Mouse ID' ] == duplicated_mouse_id.index[i],:]                                             \n",
    "        mouse_all_duplicated_df = mouse_id_df\n",
    "    else:\n",
    "        mouse_id_df             = mouse_study_combined_df.loc[mouse_study_combined_df['Mouse ID' ] == duplicated_mouse_id.index[i],:]                                             \n",
    "        mouse_all_duplicated_df = mouse_all_duplicated_df.append(mouse_id_df, ignore_index=True, sort=False)\n",
    "mouse_all_duplicated_df\n"
   ]
  },
  {
   "cell_type": "code",
   "execution_count": 6,
   "metadata": {},
   "outputs": [
    {
     "data": {
      "text/html": [
       "<div>\n",
       "<style scoped>\n",
       "    .dataframe tbody tr th:only-of-type {\n",
       "        vertical-align: middle;\n",
       "    }\n",
       "\n",
       "    .dataframe tbody tr th {\n",
       "        vertical-align: top;\n",
       "    }\n",
       "\n",
       "    .dataframe thead th {\n",
       "        text-align: right;\n",
       "    }\n",
       "</style>\n",
       "<table border=\"1\" class=\"dataframe\">\n",
       "  <thead>\n",
       "    <tr style=\"text-align: right;\">\n",
       "      <th></th>\n",
       "      <th>Mouse ID</th>\n",
       "      <th>Drug Regimen</th>\n",
       "      <th>Sex</th>\n",
       "      <th>Age_months</th>\n",
       "      <th>Weight (g)</th>\n",
       "      <th>Timepoint</th>\n",
       "      <th>Tumor Volume (mm3)</th>\n",
       "      <th>Metastatic Sites</th>\n",
       "    </tr>\n",
       "  </thead>\n",
       "  <tbody>\n",
       "    <tr>\n",
       "      <th>0</th>\n",
       "      <td>k403</td>\n",
       "      <td>Ramicane</td>\n",
       "      <td>Male</td>\n",
       "      <td>21</td>\n",
       "      <td>16</td>\n",
       "      <td>0</td>\n",
       "      <td>45.0</td>\n",
       "      <td>0</td>\n",
       "    </tr>\n",
       "    <tr>\n",
       "      <th>10</th>\n",
       "      <td>s185</td>\n",
       "      <td>Capomulin</td>\n",
       "      <td>Female</td>\n",
       "      <td>3</td>\n",
       "      <td>17</td>\n",
       "      <td>0</td>\n",
       "      <td>45.0</td>\n",
       "      <td>0</td>\n",
       "    </tr>\n",
       "    <tr>\n",
       "      <th>20</th>\n",
       "      <td>x401</td>\n",
       "      <td>Capomulin</td>\n",
       "      <td>Female</td>\n",
       "      <td>16</td>\n",
       "      <td>15</td>\n",
       "      <td>0</td>\n",
       "      <td>45.0</td>\n",
       "      <td>0</td>\n",
       "    </tr>\n",
       "    <tr>\n",
       "      <th>30</th>\n",
       "      <td>m601</td>\n",
       "      <td>Capomulin</td>\n",
       "      <td>Male</td>\n",
       "      <td>22</td>\n",
       "      <td>17</td>\n",
       "      <td>0</td>\n",
       "      <td>45.0</td>\n",
       "      <td>0</td>\n",
       "    </tr>\n",
       "    <tr>\n",
       "      <th>40</th>\n",
       "      <td>g791</td>\n",
       "      <td>Ramicane</td>\n",
       "      <td>Male</td>\n",
       "      <td>11</td>\n",
       "      <td>16</td>\n",
       "      <td>0</td>\n",
       "      <td>45.0</td>\n",
       "      <td>0</td>\n",
       "    </tr>\n",
       "    <tr>\n",
       "      <th>...</th>\n",
       "      <td>...</td>\n",
       "      <td>...</td>\n",
       "      <td>...</td>\n",
       "      <td>...</td>\n",
       "      <td>...</td>\n",
       "      <td>...</td>\n",
       "      <td>...</td>\n",
       "      <td>...</td>\n",
       "    </tr>\n",
       "    <tr>\n",
       "      <th>1858</th>\n",
       "      <td>z314</td>\n",
       "      <td>Stelasyn</td>\n",
       "      <td>Female</td>\n",
       "      <td>21</td>\n",
       "      <td>28</td>\n",
       "      <td>0</td>\n",
       "      <td>45.0</td>\n",
       "      <td>0</td>\n",
       "    </tr>\n",
       "    <tr>\n",
       "      <th>1860</th>\n",
       "      <td>z435</td>\n",
       "      <td>Propriva</td>\n",
       "      <td>Female</td>\n",
       "      <td>12</td>\n",
       "      <td>26</td>\n",
       "      <td>0</td>\n",
       "      <td>45.0</td>\n",
       "      <td>0</td>\n",
       "    </tr>\n",
       "    <tr>\n",
       "      <th>1863</th>\n",
       "      <td>z581</td>\n",
       "      <td>Infubinol</td>\n",
       "      <td>Female</td>\n",
       "      <td>24</td>\n",
       "      <td>25</td>\n",
       "      <td>0</td>\n",
       "      <td>45.0</td>\n",
       "      <td>0</td>\n",
       "    </tr>\n",
       "    <tr>\n",
       "      <th>1873</th>\n",
       "      <td>z795</td>\n",
       "      <td>Naftisol</td>\n",
       "      <td>Female</td>\n",
       "      <td>13</td>\n",
       "      <td>29</td>\n",
       "      <td>0</td>\n",
       "      <td>45.0</td>\n",
       "      <td>0</td>\n",
       "    </tr>\n",
       "    <tr>\n",
       "      <th>1883</th>\n",
       "      <td>z969</td>\n",
       "      <td>Naftisol</td>\n",
       "      <td>Male</td>\n",
       "      <td>9</td>\n",
       "      <td>30</td>\n",
       "      <td>0</td>\n",
       "      <td>45.0</td>\n",
       "      <td>0</td>\n",
       "    </tr>\n",
       "  </tbody>\n",
       "</table>\n",
       "<p>249 rows × 8 columns</p>\n",
       "</div>"
      ],
      "text/plain": [
       "     Mouse ID Drug Regimen     Sex  Age_months  Weight (g)  Timepoint  \\\n",
       "0        k403     Ramicane    Male          21          16          0   \n",
       "10       s185    Capomulin  Female           3          17          0   \n",
       "20       x401    Capomulin  Female          16          15          0   \n",
       "30       m601    Capomulin    Male          22          17          0   \n",
       "40       g791     Ramicane    Male          11          16          0   \n",
       "...       ...          ...     ...         ...         ...        ...   \n",
       "1858     z314     Stelasyn  Female          21          28          0   \n",
       "1860     z435     Propriva  Female          12          26          0   \n",
       "1863     z581    Infubinol  Female          24          25          0   \n",
       "1873     z795     Naftisol  Female          13          29          0   \n",
       "1883     z969     Naftisol    Male           9          30          0   \n",
       "\n",
       "      Tumor Volume (mm3)  Metastatic Sites  \n",
       "0                   45.0                 0  \n",
       "10                  45.0                 0  \n",
       "20                  45.0                 0  \n",
       "30                  45.0                 0  \n",
       "40                  45.0                 0  \n",
       "...                  ...               ...  \n",
       "1858                45.0                 0  \n",
       "1860                45.0                 0  \n",
       "1863                45.0                 0  \n",
       "1873                45.0                 0  \n",
       "1883                45.0                 0  \n",
       "\n",
       "[249 rows x 8 columns]"
      ]
     },
     "execution_count": 6,
     "metadata": {},
     "output_type": "execute_result"
    }
   ],
   "source": [
    "# Create a clean DataFrame by dropping the duplicate mouse by its ID.\n",
    "mouse_study_clean_df = mouse_study_combined_df.drop_duplicates(['Mouse ID'])\n",
    "mouse_study_clean_df"
   ]
  },
  {
   "cell_type": "code",
   "execution_count": 7,
   "metadata": {},
   "outputs": [
    {
     "data": {
      "text/plain": [
       "249"
      ]
     },
     "execution_count": 7,
     "metadata": {},
     "output_type": "execute_result"
    }
   ],
   "source": [
    "# Checking the number of mice in the clean DataFrame.\n",
    "mouse_study_clean_count = mouse_study_clean_df['Mouse ID'].count()\n",
    "mouse_study_clean_count"
   ]
  },
  {
   "cell_type": "markdown",
   "metadata": {},
   "source": [
    "## Summary Statistics"
   ]
  },
  {
   "cell_type": "code",
   "execution_count": 7,
   "metadata": {},
   "outputs": [
    {
     "data": {
      "text/html": [
       "<div>\n",
       "<style scoped>\n",
       "    .dataframe tbody tr th:only-of-type {\n",
       "        vertical-align: middle;\n",
       "    }\n",
       "\n",
       "    .dataframe tbody tr th {\n",
       "        vertical-align: top;\n",
       "    }\n",
       "\n",
       "    .dataframe thead th {\n",
       "        text-align: right;\n",
       "    }\n",
       "</style>\n",
       "<table border=\"1\" class=\"dataframe\">\n",
       "  <thead>\n",
       "    <tr style=\"text-align: right;\">\n",
       "      <th></th>\n",
       "      <th>Mean</th>\n",
       "      <th>Median</th>\n",
       "      <th>Variance</th>\n",
       "      <th>StandarDev</th>\n",
       "      <th>SEM</th>\n",
       "    </tr>\n",
       "    <tr>\n",
       "      <th>Drug Regimen</th>\n",
       "      <th></th>\n",
       "      <th></th>\n",
       "      <th></th>\n",
       "      <th></th>\n",
       "      <th></th>\n",
       "    </tr>\n",
       "  </thead>\n",
       "  <tbody>\n",
       "    <tr>\n",
       "      <th>Capomulin</th>\n",
       "      <td>40.68</td>\n",
       "      <td>41.56</td>\n",
       "      <td>24.95</td>\n",
       "      <td>4.99</td>\n",
       "      <td>0.33</td>\n",
       "    </tr>\n",
       "    <tr>\n",
       "      <th>Ceftamin</th>\n",
       "      <td>52.59</td>\n",
       "      <td>51.78</td>\n",
       "      <td>39.29</td>\n",
       "      <td>6.27</td>\n",
       "      <td>0.47</td>\n",
       "    </tr>\n",
       "    <tr>\n",
       "      <th>Infubinol</th>\n",
       "      <td>52.88</td>\n",
       "      <td>51.82</td>\n",
       "      <td>43.13</td>\n",
       "      <td>6.57</td>\n",
       "      <td>0.49</td>\n",
       "    </tr>\n",
       "    <tr>\n",
       "      <th>Ketapril</th>\n",
       "      <td>55.24</td>\n",
       "      <td>53.70</td>\n",
       "      <td>68.55</td>\n",
       "      <td>8.28</td>\n",
       "      <td>0.60</td>\n",
       "    </tr>\n",
       "    <tr>\n",
       "      <th>Naftisol</th>\n",
       "      <td>54.33</td>\n",
       "      <td>52.51</td>\n",
       "      <td>66.17</td>\n",
       "      <td>8.13</td>\n",
       "      <td>0.60</td>\n",
       "    </tr>\n",
       "    <tr>\n",
       "      <th>Placebo</th>\n",
       "      <td>54.03</td>\n",
       "      <td>52.29</td>\n",
       "      <td>61.17</td>\n",
       "      <td>7.82</td>\n",
       "      <td>0.58</td>\n",
       "    </tr>\n",
       "    <tr>\n",
       "      <th>Propriva</th>\n",
       "      <td>52.32</td>\n",
       "      <td>50.85</td>\n",
       "      <td>42.35</td>\n",
       "      <td>6.51</td>\n",
       "      <td>0.51</td>\n",
       "    </tr>\n",
       "    <tr>\n",
       "      <th>Ramicane</th>\n",
       "      <td>40.22</td>\n",
       "      <td>40.67</td>\n",
       "      <td>23.49</td>\n",
       "      <td>4.85</td>\n",
       "      <td>0.32</td>\n",
       "    </tr>\n",
       "    <tr>\n",
       "      <th>Stelasyn</th>\n",
       "      <td>54.23</td>\n",
       "      <td>52.43</td>\n",
       "      <td>59.45</td>\n",
       "      <td>7.71</td>\n",
       "      <td>0.57</td>\n",
       "    </tr>\n",
       "    <tr>\n",
       "      <th>Zoniferol</th>\n",
       "      <td>53.24</td>\n",
       "      <td>51.82</td>\n",
       "      <td>48.53</td>\n",
       "      <td>6.97</td>\n",
       "      <td>0.52</td>\n",
       "    </tr>\n",
       "  </tbody>\n",
       "</table>\n",
       "</div>"
      ],
      "text/plain": [
       "               Mean  Median  Variance  StandarDev   SEM\n",
       "Drug Regimen                                           \n",
       "Capomulin     40.68   41.56     24.95        4.99  0.33\n",
       "Ceftamin      52.59   51.78     39.29        6.27  0.47\n",
       "Infubinol     52.88   51.82     43.13        6.57  0.49\n",
       "Ketapril      55.24   53.70     68.55        8.28  0.60\n",
       "Naftisol      54.33   52.51     66.17        8.13  0.60\n",
       "Placebo       54.03   52.29     61.17        7.82  0.58\n",
       "Propriva      52.32   50.85     42.35        6.51  0.51\n",
       "Ramicane      40.22   40.67     23.49        4.85  0.32\n",
       "Stelasyn      54.23   52.43     59.45        7.71  0.57\n",
       "Zoniferol     53.24   51.82     48.53        6.97  0.52"
      ]
     },
     "execution_count": 7,
     "metadata": {},
     "output_type": "execute_result"
    }
   ],
   "source": [
    "# Generate a summary statistics table of mean, median, variance, standard deviation, and SEM of the tumor volume for each regimen\n",
    "# Use groupby and summary statistical methods to calculate the following properties of each drug regimen: \n",
    "# mean, median, variance, standard deviation, and SEM of the tumor volume. \n",
    "# Assemble the resulting series into a single summary dataframe.\n",
    "\n",
    "# Split up the data into groups based upon 'Drug Regimen'\n",
    "summary_statistics_df = mouse_study_combined_df.groupby('Drug Regimen')['Tumor Volume (mm3)']\n",
    "\n",
    "#creating a summary dataframe\n",
    "sumary_df = pd.DataFrame({'Mean':round(summary_statistics_df.mean(),2),\n",
    "                          'Median':round(summary_statistics_df.median(),2),\n",
    "                          'Variance':round(summary_statistics_df.var(),2),\n",
    "                          'StandarDev':round(summary_statistics_df.std(),2),\n",
    "                          'SEM':round(summary_statistics_df.sem(),2) \n",
    "                         })\n",
    "#output\n",
    "sumary_df                                                                             \n",
    "                    \n",
    "                                          \n",
    "                                          "
   ]
  },
  {
   "cell_type": "code",
   "execution_count": 8,
   "metadata": {},
   "outputs": [
    {
     "data": {
      "text/html": [
       "<div>\n",
       "<style scoped>\n",
       "    .dataframe tbody tr th:only-of-type {\n",
       "        vertical-align: middle;\n",
       "    }\n",
       "\n",
       "    .dataframe tbody tr th {\n",
       "        vertical-align: top;\n",
       "    }\n",
       "\n",
       "    .dataframe thead th {\n",
       "        text-align: right;\n",
       "    }\n",
       "</style>\n",
       "<table border=\"1\" class=\"dataframe\">\n",
       "  <thead>\n",
       "    <tr style=\"text-align: right;\">\n",
       "      <th></th>\n",
       "      <th>mean</th>\n",
       "      <th>median</th>\n",
       "      <th>var</th>\n",
       "      <th>std</th>\n",
       "      <th>sem</th>\n",
       "    </tr>\n",
       "    <tr>\n",
       "      <th>Drug Regimen</th>\n",
       "      <th></th>\n",
       "      <th></th>\n",
       "      <th></th>\n",
       "      <th></th>\n",
       "      <th></th>\n",
       "    </tr>\n",
       "  </thead>\n",
       "  <tbody>\n",
       "    <tr>\n",
       "      <th>Capomulin</th>\n",
       "      <td>40.675741</td>\n",
       "      <td>41.557809</td>\n",
       "      <td>24.947764</td>\n",
       "      <td>4.994774</td>\n",
       "      <td>0.329346</td>\n",
       "    </tr>\n",
       "    <tr>\n",
       "      <th>Ceftamin</th>\n",
       "      <td>52.591172</td>\n",
       "      <td>51.776157</td>\n",
       "      <td>39.290177</td>\n",
       "      <td>6.268188</td>\n",
       "      <td>0.469821</td>\n",
       "    </tr>\n",
       "    <tr>\n",
       "      <th>Infubinol</th>\n",
       "      <td>52.884795</td>\n",
       "      <td>51.820584</td>\n",
       "      <td>43.128684</td>\n",
       "      <td>6.567243</td>\n",
       "      <td>0.492236</td>\n",
       "    </tr>\n",
       "    <tr>\n",
       "      <th>Ketapril</th>\n",
       "      <td>55.235638</td>\n",
       "      <td>53.698743</td>\n",
       "      <td>68.553577</td>\n",
       "      <td>8.279709</td>\n",
       "      <td>0.603860</td>\n",
       "    </tr>\n",
       "    <tr>\n",
       "      <th>Naftisol</th>\n",
       "      <td>54.331565</td>\n",
       "      <td>52.509285</td>\n",
       "      <td>66.173479</td>\n",
       "      <td>8.134708</td>\n",
       "      <td>0.596466</td>\n",
       "    </tr>\n",
       "    <tr>\n",
       "      <th>Placebo</th>\n",
       "      <td>54.033581</td>\n",
       "      <td>52.288934</td>\n",
       "      <td>61.168083</td>\n",
       "      <td>7.821003</td>\n",
       "      <td>0.581331</td>\n",
       "    </tr>\n",
       "    <tr>\n",
       "      <th>Propriva</th>\n",
       "      <td>52.322552</td>\n",
       "      <td>50.854632</td>\n",
       "      <td>42.351070</td>\n",
       "      <td>6.507770</td>\n",
       "      <td>0.512884</td>\n",
       "    </tr>\n",
       "    <tr>\n",
       "      <th>Ramicane</th>\n",
       "      <td>40.216745</td>\n",
       "      <td>40.673236</td>\n",
       "      <td>23.486704</td>\n",
       "      <td>4.846308</td>\n",
       "      <td>0.320955</td>\n",
       "    </tr>\n",
       "    <tr>\n",
       "      <th>Stelasyn</th>\n",
       "      <td>54.233149</td>\n",
       "      <td>52.431737</td>\n",
       "      <td>59.450562</td>\n",
       "      <td>7.710419</td>\n",
       "      <td>0.573111</td>\n",
       "    </tr>\n",
       "    <tr>\n",
       "      <th>Zoniferol</th>\n",
       "      <td>53.236507</td>\n",
       "      <td>51.818479</td>\n",
       "      <td>48.533355</td>\n",
       "      <td>6.966589</td>\n",
       "      <td>0.516398</td>\n",
       "    </tr>\n",
       "  </tbody>\n",
       "</table>\n",
       "</div>"
      ],
      "text/plain": [
       "                   mean     median        var       std       sem\n",
       "Drug Regimen                                                     \n",
       "Capomulin     40.675741  41.557809  24.947764  4.994774  0.329346\n",
       "Ceftamin      52.591172  51.776157  39.290177  6.268188  0.469821\n",
       "Infubinol     52.884795  51.820584  43.128684  6.567243  0.492236\n",
       "Ketapril      55.235638  53.698743  68.553577  8.279709  0.603860\n",
       "Naftisol      54.331565  52.509285  66.173479  8.134708  0.596466\n",
       "Placebo       54.033581  52.288934  61.168083  7.821003  0.581331\n",
       "Propriva      52.322552  50.854632  42.351070  6.507770  0.512884\n",
       "Ramicane      40.216745  40.673236  23.486704  4.846308  0.320955\n",
       "Stelasyn      54.233149  52.431737  59.450562  7.710419  0.573111\n",
       "Zoniferol     53.236507  51.818479  48.533355  6.966589  0.516398"
      ]
     },
     "execution_count": 8,
     "metadata": {},
     "output_type": "execute_result"
    }
   ],
   "source": [
    "# Generate a summary statistics table of mean, median, variance, standard deviation, and SEM of the tumor volume for each regimen\n",
    "\n",
    "# Using the aggregation method, produce the same summary statistics in a single line\n",
    "\n",
    "summary_agg_df = summary_statistics_df.agg(['mean','median','var','std','sem'])\n",
    "summary_agg_df\n"
   ]
  },
  {
   "cell_type": "markdown",
   "metadata": {},
   "source": [
    "# Bar and Pie Charts"
   ]
  },
  {
   "cell_type": "code",
   "execution_count": 9,
   "metadata": {},
   "outputs": [
    {
     "data": {
      "text/plain": [
       "Text(30.25, 0.5, 'Mouse count')"
      ]
     },
     "execution_count": 9,
     "metadata": {},
     "output_type": "execute_result"
    },
    {
     "data": {
      "image/png": "[encoded data removed]",
      "text/plain": [
       "<Figure size 432x288 with 1 Axes>"
      ]
     },
     "metadata": {
      "needs_background": "light"
     },
     "output_type": "display_data"
    }
   ],
   "source": [
    "# Generate a bar plot showing the total number of unique mice tested on each drug regimen using pandas.\n",
    "# number of uniques mice\n",
    "unique_mice_tested = pd.DataFrame(mouse_study_clean_df.groupby('Drug Regimen')['Mouse ID'].count())\n",
    "unique_mice_tested.plot(kind=\"bar\",color = 'green',alpha=0.5, align=\"center\", legend = False)\n",
    "plt.tight_layout()\n",
    "plt.ylim=(0,30)\n",
    "\n",
    "# formatted title and labels\n",
    "plt.yticks(fontsize='small')\n",
    "plt.xticks(horizontalalignment=\"center\",fontsize='small')\n",
    "plt.title ('Unique mice tested on each drug regimen')\n",
    "plt.ylabel(\"Mouse count\")\n",
    "\n"
   ]
  },
  {
   "cell_type": "code",
   "execution_count": 10,
   "metadata": {},
   "outputs": [
    {
     "data": {
      "text/plain": [
       "Text(0.5, 0, 'Drug Regimen')"
      ]
     },
     "execution_count": 10,
     "metadata": {},
     "output_type": "execute_result"
    },
    {
     "data": {
      "image/png": "[encoded data removed]",
      "text/plain": [
       "<Figure size 720x360 with 1 Axes>"
      ]
     },
     "metadata": {
      "needs_background": "light"
     },
     "output_type": "display_data"
    }
   ],
   "source": [
    "# Generate a bar plot showing the total number of unique mice tested on each drug regimen using pyplot.\n",
    "unique_mice_tested_py = pd.DataFrame(mouse_study_clean_df.groupby('Drug Regimen')['Mouse ID'].count()).reset_index()\n",
    "\n",
    "x_regimen = unique_mice_tested_py['Drug Regimen']\n",
    "y_count = unique_mice_tested_py['Mouse ID']\n",
    "plt.figure(figsize=(10,5))\n",
    "plt.bar(x_regimen,y_count,color='green',alpha=0.5, align='center')\n",
    "\n",
    "# formatted title and labels\n",
    "plt.yticks(fontsize='small')\n",
    "plt.xticks(rotation = 90,horizontalalignment=\"center\",fontsize='small')\n",
    "plt.title ('Unique mice tested on each drug regimen')\n",
    "plt.ylabel(\"Mouse count\",fontsize='small')\n",
    "plt.xlabel(\"Drug Regimen\",fontsize='small')\n",
    "\n"
   ]
  },
  {
   "cell_type": "code",
   "execution_count": 11,
   "metadata": {},
   "outputs": [
    {
     "data": {
      "text/plain": [
       "Text(0.5, 1.0, 'Distribution of female versus male mice')"
      ]
     },
     "execution_count": 11,
     "metadata": {},
     "output_type": "execute_result"
    },
    {
     "data": {
      "image/png": "[encoded data removed]",
      "text/plain": [
       "<Figure size 432x432 with 1 Axes>"
      ]
     },
     "metadata": {},
     "output_type": "display_data"
    }
   ],
   "source": [
    "# Generate a pie plot showing the distribution of female versus male mice using pandas\n",
    "show_distribution_bysex =mouse_study_clean_df.groupby('Sex')['Mouse ID'].count()\n",
    "colors=[\"yellow\", \"lightskyblue\"]\n",
    "\n",
    "show_distribution_bysex.plot(kind=\"pie\", colors = colors, figsize=(6,6),autopct='%1.1f%%',shadow=True,startangle=140, legend = False)\n",
    "plt.axis(\"equal\")\n",
    "plt.title ('Distribution of female versus male mice')\n"
   ]
  },
  {
   "cell_type": "code",
   "execution_count": 12,
   "metadata": {},
   "outputs": [
    {
     "data": {
      "text/plain": [
       "Text(0.5, 1.0, 'Distribution of female versus male mice')"
      ]
     },
     "execution_count": 12,
     "metadata": {},
     "output_type": "execute_result"
    },
    {
     "data": {
      "image/png": "[encoded data removed]",
      "text/plain": [
       "<Figure size 432x288 with 1 Axes>"
      ]
     },
     "metadata": {},
     "output_type": "display_data"
    }
   ],
   "source": [
    "# Generate a pie plot showing the distribution of female versus male mice using pyplot\n",
    "show_distribution_bysexpyplot =mouse_study_clean_df.groupby('Sex')['Mouse ID'].count().reset_index()\n",
    "\n",
    "sex_labels = show_distribution_bysexpyplot['Sex']\n",
    "\n",
    "# The values of each section of the pie chart\n",
    "sizes_mousecount = show_distribution_bysexpyplot['Mouse ID']\n",
    "\n",
    "# The colors of each section of the pie chart\n",
    "colors = colors=[\"yellow\", \"lightskyblue\"]\n",
    "\n",
    "# Creates the pie chart based upon the values above\n",
    "# Automatically finds the percentages of each part of the pie chart\n",
    "plt.pie(sizes_mousecount, labels=sex_labels, colors=colors,\n",
    "        autopct=\"%1.1f%%\", shadow=True, startangle=140)\n",
    "plt.axis(\"equal\")\n",
    "plt.title ('Distribution of female versus male mice')"
   ]
  },
  {
   "cell_type": "markdown",
   "metadata": {},
   "source": [
    "# Quartiles, Outliers and Boxplots"
   ]
  },
  {
   "cell_type": "code",
   "execution_count": 13,
   "metadata": {},
   "outputs": [],
   "source": [
    "# Calculate the final tumor volume of each mouse across four of the treatment regimens:  \n",
    "# Capomulin, Ramicane, Infubinol, and Ceftamin\n",
    "\n",
    "# Start by getting the last (greatest) timepoint for each mouse\n",
    "\n",
    "capomulin_greatest = mouse_study_combined_df.loc[mouse_study_combined_df['Drug Regimen'] == 'Capomulin'].groupby('Mouse ID')['Timepoint']\n",
    "capomulin_greatest_timepoint =capomulin_greatest.max()\n",
    "\n",
    "ramicane_greatest = mouse_study_combined_df.loc[mouse_study_combined_df['Drug Regimen'] == 'Ramicane'].groupby('Mouse ID')['Timepoint']\n",
    "ramicane_greatest_timepoint =ramicane_greatest.max()\n",
    "\n",
    "infubinol_greatest = mouse_study_combined_df.loc[mouse_study_combined_df['Drug Regimen'] == 'Infubinol'].groupby('Mouse ID')['Timepoint']\n",
    "infubinol_greatest_timepoint =infubinol_greatest.max()\n",
    "\n",
    "ceftamin_greatest = mouse_study_combined_df.loc[mouse_study_combined_df['Drug Regimen'] == 'Ceftamin'].groupby('Mouse ID')['Timepoint']\n",
    "ceftamin_greatest_timepoint =ceftamin_greatest.max()\n",
    "\n",
    "\n",
    "# Merge this group df with the original dataframe to get the tumor volume at the last timepoint\n",
    "capomulin_df = pd.merge(capomulin_greatest_timepoint,mouse_study_combined_df,on=['Mouse ID','Timepoint'])\n",
    "ramicane_df = pd.merge(ramicane_greatest_timepoint,mouse_study_combined_df,on=['Mouse ID','Timepoint'])\n",
    "infubinol_df = pd.merge(infubinol_greatest_timepoint,mouse_study_combined_df,on=['Mouse ID','Timepoint'])\n",
    "ceftamin_df = pd.merge(ceftamin_greatest_timepoint,mouse_study_combined_df,on=['Mouse ID','Timepoint'])\n",
    "\n",
    "# generated the df four regimens\n",
    "treatment_regimens_data = capomulin_df  \n",
    "treatment_regimens_data_df = treatment_regimens_data.append(ramicane_df, ignore_index=True, sort=False)\n",
    "treatment_regimens_data_df = treatment_regimens_data_df.append(infubinol_df, ignore_index=True, sort=False)\n",
    "treatment_regimens_data_df = treatment_regimens_data_df.append(ceftamin_df, ignore_index=True, sort=False)\n"
   ]
  },
  {
   "cell_type": "code",
   "execution_count": 14,
   "metadata": {},
   "outputs": [],
   "source": [
    "# Put treatments into a list for loop (and later for plot labels)\n",
    "treatments = ['Capomulin', 'Ramicane', 'Infubinol', 'Ceftamin']\n",
    "\n",
    "# Created  lists to fill with tumor vol data (for plotting)\n",
    "capomulin_vol_list = capomulin_df['Tumor Volume (mm3)']\n",
    "ramicane_vol_list =  ramicane_df['Tumor Volume (mm3)']\n",
    "infunol_vol_list = infubinol_df['Tumor Volume (mm3)']\n",
    "ceftamin_vol_list = ceftamin_df['Tumor Volume (mm3)']\n",
    "\n",
    "tumor_volume_list = treatment_regimens_data_df['Tumor Volume (mm3)']\n",
    "\n",
    "# Calculate the IQR and quantitatively determine if there are any potential outliers. \n",
    "# All 4 treatments IQR and potencial outliers\n",
    "quartiles = treatment_regimens_data_df['Tumor Volume (mm3)'].quantile([.25,.5,.75])\n",
    "lowerq = quartiles[0.25]\n",
    "upperq = quartiles[0.75]\n",
    "iqr = upperq-lowerq\n",
    "# Locate the rows which contain mice on each drug and get the tumor volumes\n",
    "    ## It is already included on my dataframe  \n",
    "# add subset   \n",
    "\n",
    "#Capomulin IQR and potencial outliers\n",
    "quartiles_ca = capomulin_df['Tumor Volume (mm3)'].quantile([.25,.5,.75])\n",
    "lowerq_ca = quartiles_ca[0.25]\n",
    "upperq_ca = quartiles_ca[0.75]\n",
    "iqr_ca = upperq_ca-lowerq_ca\n",
    "\n",
    "#Ramicane IQR and potencial outliers\n",
    "quartiles_ra = ramicane_df['Tumor Volume (mm3)'].quantile([.25,.5,.75])\n",
    "lowerq_ra = quartiles_ra[0.25]\n",
    "upperq_ra = quartiles_ra[0.75]\n",
    "iqr_ra = upperq_ra-lowerq_ra\n",
    "\n",
    "#Infubinol IQR and potencial outliers\n",
    "quartiles_in = infubinol_df['Tumor Volume (mm3)'].quantile([.25,.5,.75])\n",
    "lowerq_in = quartiles_in[0.25]\n",
    "upperq_in = quartiles_in[0.75]\n",
    "iqr_in = upperq_in-lowerq_in\n",
    "\n",
    "#Ceftamin IQR and potencial outliers\n",
    "quartiles_ce = ceftamin_df['Tumor Volume (mm3)'].quantile([.25,.5,.75])\n",
    "lowerq_ce = quartiles_ce[0.25]\n",
    "upperq_ce = quartiles_ce[0.75]\n",
    "iqr_ce = upperq_ce-lowerq_ce\n",
    "\n",
    "# Determine outliers using upper and lower bounds\n",
    "lower_bound = lowerq - (1.5*iqr)\n",
    "upper_bound = upperq + (1.5*iqr)\n",
    "\n",
    "#Calculates Capomulin outliers using upper and lower bounds\n",
    "lower_bound_ca = lowerq_ca - (1.5*iqr_ca)\n",
    "upper_bound_ca = upperq_ca + (1.5*iqr_ca)\n",
    "\n",
    "# Calculates Ramicane outliers using upper and lower bounds\n",
    "lower_bound_ra = lowerq_ra - (1.5*iqr_ra)\n",
    "upper_bound_ra = upperq_ra + (1.5*iqr_ra)\n",
    "\n",
    "#Calculates Infubinol outliers using upper and lower bounds\n",
    "lower_bound_in = lowerq_in - (1.5*iqr_in)\n",
    "upper_bound_in = upperq_in + (1.5*iqr_in)\n",
    "\n",
    "#Calculates Ceftamin outliers using upper and lower bounds\n",
    "lower_bound_ce = lowerq_ce - (1.5*iqr_ce)\n",
    "upper_bound_ce = upperq_ce + (1.5*iqr_ce)\n"
   ]
  },
  {
   "cell_type": "code",
   "execution_count": 15,
   "metadata": {},
   "outputs": [
    {
     "name": "stdout",
     "output_type": "stream",
     "text": [
      "- Capomulin IQR and potencial outliers\n",
      "Lower quartile: 32.38\n",
      "Upper quartile: 40.16\n",
      "Interquartile range: 7.78\n",
      "The Median: 38.13 \n",
      " \n",
      "- Ramicane IQR and potencial outliers\n",
      "Lower quartile: 31.56\n",
      "Upper quartile: 40.66\n",
      "Interquartile range: 9.1\n",
      "The Median: 36.56 \n",
      " \n",
      "- Infubinol IQR and potencial outliers\n",
      "Lower quartile: 54.05\n",
      "Upper quartile: 65.53\n",
      "Interquartile range: 11.48\n",
      "The Median: 60.17 \n",
      " \n",
      "- Infunol IQR and potencial outliers\n",
      "Lower quartile: 48.72\n",
      "Upper quartile: 64.3\n",
      "Interquartile range: 15.58\n",
      "The Median: 59.85 \n",
      " \n",
      "Capomulin lower bound outlier: 20.7\n",
      "Capomulin upper bound outlier: 51.83\n",
      " \n",
      "Ramicane lower bound outlier: 17.91\n",
      "Ramicane upper bound outlier: 54.31\n",
      " \n",
      "Infubinol lower bound outlier: 36.83\n",
      "Infubinol upper bound outlier: 82.74\n",
      " \n",
      "Ceftamin lower bound outlier: 25.36\n",
      "Ceftamin upper bound outlier: 87.67\n"
     ]
    }
   ],
   "source": [
    "# print Capomulin IQR and potencial outliers\n",
    "print('- Capomulin IQR and potencial outliers')\n",
    "print(f\"Lower quartile: {round(lowerq_ca,2)}\")\n",
    "print(f\"Upper quartile: {round(upperq_ca,2)}\")\n",
    "print(f\"Interquartile range: {round(iqr_ca,2)}\")\n",
    "print(f\"The Median: {round(quartiles_ca[0.5],2)} \")\n",
    "print(' ')\n",
    "print('- Ramicane IQR and potencial outliers')\n",
    "print(f\"Lower quartile: {round(lowerq_ra,2)}\")\n",
    "print(f\"Upper quartile: {round(upperq_ra,2)}\")\n",
    "print(f\"Interquartile range: {round(iqr_ra,2)}\")\n",
    "print(f\"The Median: {round(quartiles_ra[0.5],2)} \")\n",
    "print(' ')\n",
    "print('- Infubinol IQR and potencial outliers')\n",
    "print(f\"Lower quartile: {round(lowerq_in,2)}\")\n",
    "print(f\"Upper quartile: {round(upperq_in,2)}\")\n",
    "print(f\"Interquartile range: {round(iqr_in,2)}\")\n",
    "print(f\"The Median: {round(quartiles_in[0.5],2)} \")\n",
    "print(' ')\n",
    "print('- Infunol IQR and potencial outliers')\n",
    "print(f\"Lower quartile: {round(lowerq_ce,2)}\")\n",
    "print(f\"Upper quartile: {round(upperq_ce,2)}\")\n",
    "print(f\"Interquartile range: {round(iqr_ce,2)}\")\n",
    "print(f\"The Median: {round(quartiles_ce[0.5],2)} \")\n",
    "\n",
    "# Print outliers using upper and lower bounds\n",
    "print(' ')\n",
    "print(f\"Capomulin lower bound outlier: {round(lower_bound_ca,2)}\")\n",
    "print(f\"Capomulin upper bound outlier: {round(upper_bound_ca,2)}\")\n",
    "print(' ')\n",
    "print(f\"Ramicane lower bound outlier: {round(lower_bound_ra,2)}\")\n",
    "print(f\"Ramicane upper bound outlier: {round(upper_bound_ra,2)}\")\n",
    "print(' ')\n",
    "print(f\"Infubinol lower bound outlier: {round(lower_bound_in,2)}\")\n",
    "print(f\"Infubinol upper bound outlier: {round(upper_bound_in,2)}\")\n",
    "print(' ')\n",
    "print(f\"Ceftamin lower bound outlier: {round(lower_bound_ce,2)}\")\n",
    "print(f\"Ceftamin upper bound outlier: {round(upper_bound_ce,2)}\")"
   ]
  },
  {
   "cell_type": "code",
   "execution_count": 16,
   "metadata": {},
   "outputs": [
    {
     "data": {
      "text/plain": [
       "<matplotlib.axes._subplots.AxesSubplot at 0x256b49727f0>"
      ]
     },
     "execution_count": 16,
     "metadata": {},
     "output_type": "execute_result"
    },
    {
     "data": {
      "image/png": "[encoded data removed]",
      "text/plain": [
       "<Figure size 432x288 with 1 Axes>"
      ]
     },
     "metadata": {
      "needs_background": "light"
     },
     "output_type": "display_data"
    }
   ],
   "source": [
    "# Generate a box plot of the final tumor volume of each mouse across four regimens of interest\n",
    "\n",
    "plot_tumor_volume_df = pd.DataFrame({'Camopulin':capomulin_vol_list,\n",
    "                                     'Ramicane':ramicane_vol_list,\n",
    "                                     'Infubinol':infunol_vol_list,\n",
    "                                     'Ceftamin':ceftamin_vol_list\n",
    "                                    })\n",
    "\n",
    "plot_tumor_volume_df.boxplot(column=[\"Camopulin\", \"Ramicane\",'Infubinol','Ceftamin'])"
   ]
  },
  {
   "cell_type": "markdown",
   "metadata": {},
   "source": [
    "## Line and Scatter Plots"
   ]
  },
  {
   "cell_type": "code",
   "execution_count": null,
   "metadata": {},
   "outputs": [
    {
     "data": {
      "image/png": "[encoded data removed]",
      "text/plain": [
       "<Figure size 432x288 with 1 Axes>"
      ]
     },
     "metadata": {
      "needs_background": "light"
     },
     "output_type": "display_data"
    },
    {
     "name": "stdout",
     "output_type": "stream",
     "text": [
      "['s185' 'x401' 'm601' 'f966' 'u364' 'y793' 'r554' 'm957' 't565' 'i738'\n",
      " 'w914' 'g288' 'l897' 'b742' 'b128' 'j246' 'j119' 'w150' 'v923' 'g316'\n",
      " 's710' 'l509' 'r944' 'i557' 'r157']\n",
      "From the list above, Enter another Mouse ID to be analyzed:w150\n"
     ]
    },
    {
     "data": {
      "image/png": "[encoded data removed]",
      "text/plain": [
       "<Figure size 432x288 with 1 Axes>"
      ]
     },
     "metadata": {
      "needs_background": "light"
     },
     "output_type": "display_data"
    },
    {
     "name": "stdout",
     "output_type": "stream",
     "text": [
      "['s185' 'x401' 'm601' 'f966' 'u364' 'y793' 'r554' 'm957' 't565' 'i738'\n",
      " 'w914' 'g288' 'l897' 'b742' 'b128' 'j246' 'j119' 'w150' 'v923' 'g316'\n",
      " 's710' 'l509' 'r944' 'i557' 'r157']\n"
     ]
    }
   ],
   "source": [
    "# Generate a line plot of tumor volume vs. time point for a mouse treated with Capomulin\n",
    "\n",
    "capomulin_lineplot_df = mouse_study_combined_df.loc[mouse_study_combined_df['Drug Regimen']=='Capomulin']\n",
    "\n",
    "capomulin_list = []\n",
    "capomulin_list = capomulin_lineplot_df['Mouse ID'].unique()\n",
    "v_mouse_id = capomulin_list[0]\n",
    "\n",
    "while v_mouse_id != '':\n",
    "    \n",
    "    capomulin_lineplot = capomulin_lineplot_df.loc[capomulin_lineplot_df['Mouse ID']==v_mouse_id]\n",
    "    timepoint_y = capomulin_lineplot['Timepoint']\n",
    "    capomulin_vol_x =  capomulin_lineplot['Tumor Volume (mm3)']\n",
    "    line_tumor_volume, =  plt.plot(timepoint_y,capomulin_vol_x, color=\"blue\")\n",
    "    \n",
    "    plt.title('Tumor volume vs. time point for a mouse: '+ str(v_mouse_id) )\n",
    "    plt.show()\n",
    "    print(capomulin_list)\n",
    "    v_mouse_id = input('From the list above, Enter another Mouse ID to be analyzed:')\n",
    "      \n",
    "     \n"
   ]
  },
  {
   "cell_type": "markdown",
   "metadata": {},
   "source": [
    "## Correlation and Regression"
   ]
  },
  {
   "cell_type": "code",
   "execution_count": 8,
   "metadata": {},
   "outputs": [
    {
     "data": {
      "text/plain": [
       "Text(0, 0.5, 'Weight (g)')"
      ]
     },
     "execution_count": 8,
     "metadata": {},
     "output_type": "execute_result"
    },
    {
     "data": {
      "image/png": "[encoded data removed]",
      "text/plain": [
       "<Figure size 432x288 with 1 Axes>"
      ]
     },
     "metadata": {
      "needs_background": "light"
     },
     "output_type": "display_data"
    }
   ],
   "source": [
    "# Generate a scatter plot of average tumor volume vs. mouse weight for the Capomulin regimen\n",
    "capomulin_tumor_x =  mouse_study_combined_df.loc[mouse_study_combined_df['Drug Regimen'] == 'Capomulin'].groupby('Mouse ID')\n",
    "capomulin_avg_x = capomulin_tumor_x.mean()\n",
    "\n",
    "capomulin_tumor_avg = capomulin_avg_x['Tumor Volume (mm3)']\n",
    "capomulin_weight = capomulin_avg_x['Weight (g)']\n",
    "\n",
    "plt.scatter(capomulin_tumor_avg, capomulin_weight, marker=\"o\", facecolors=\"blue\", edgecolors=\"green\",s=80)\n",
    "\n",
    "# Set the upper and lower limits of our y axis\n",
    "#plt.ylim(14,26)\n",
    "\n",
    "# Set the upper and lower limits of our x axis\n",
    "#plt.xlim(11,26)\n",
    "\n",
    "# Create a title, x label, and y label for our chart\n",
    "plt.title(\"Average Tumor Volume vs Mouse Weight for Capomulin regimen\")\n",
    "plt.xlabel(\"Tumor (mm3)\")\n",
    "plt.ylabel(\"Weight (g)\")\n"
   ]
  },
  {
   "cell_type": "code",
   "execution_count": 9,
   "metadata": {},
   "outputs": [
    {
     "name": "stdout",
     "output_type": "stream",
     "text": [
      "The correlation between both factors is 0.84\n",
      "LinregressResult(slope=0.9544396890241045, intercept=21.552160532685015, rvalue=0.8419363424694718, pvalue=1.3225722434712642e-07, stderr=0.1275435903320134)\n"
     ]
    },
    {
     "data": {
      "image/png": "[encoded data removed]",
      "text/plain": [
       "<Figure size 432x288 with 1 Axes>"
      ]
     },
     "metadata": {
      "needs_background": "light"
     },
     "output_type": "display_data"
    }
   ],
   "source": [
    "# Calculate the correlation coefficient and linear regression model \n",
    "# for mouse weight and average tumor volume for the Capomulin regimen\n",
    "\n",
    "# correlation coefficient between mouse weight and average tumor volume\n",
    "weight = capomulin_weight\n",
    "volume = capomulin_tumor_avg\n",
    "correlation = st.pearsonr(weight,volume)\n",
    "print(f\"The correlation between both factors is {round(correlation[0],2)}\")\n",
    "\n",
    "# linear regresion for mouse weight and average tumor volume\n",
    "linear_regresion = st.linregress(weight, volume)\n",
    "print(linear_regresion)\n",
    "\n",
    "# Perform a linear regression on mouse weight vs average tumor volume\n",
    "tv_slope, tv_int, tv_r, tv_p, tv_std_err = st.linregress(weight, volume)\n",
    "\n",
    "# Create equation of line to calculate predicted volume tumor rate\n",
    "tv_fit = tv_slope * weight + tv_int\n",
    "plt.scatter(weight,volume)\n",
    "plt.plot(weight,tv_fit,color='green')\n",
    "plt.xticks(weight)\n",
    "plt.title('Predicted volume tumor rate')\n",
    "plt.xlabel('Weight(g)')\n",
    "plt.ylabel('Average Tumor Volume (mm3)')\n",
    "plt.savefig('LrMouseWeightvsAvgTumorVol')\n",
    "plt.show()\n"
   ]
  },
  {
   "cell_type": "code",
   "execution_count": null,
   "metadata": {},
   "outputs": [],
   "source": []
  }
 ],
 "metadata": {
  "anaconda-cloud": {},
  "kernelspec": {
   "display_name": "Python 3",
   "language": "python",
   "name": "python3"
  },
  "language_info": {
   "codemirror_mode": {
    "name": "ipython",
    "version": 3
   },
   "file_extension": ".py",
   "mimetype": "text/x-python",
   "name": "python",
   "nbconvert_exporter": "python",
   "pygments_lexer": "ipython3",
   "version": "3.8.3"
  }
 },
 "nbformat": 4,
 "nbformat_minor": 4
}
